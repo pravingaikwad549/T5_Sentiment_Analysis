{
 "cells": [
  {
   "cell_type": "code",
   "execution_count": 1,
   "id": "015275f9-7193-4d92-8619-10eb84be9607",
   "metadata": {},
   "outputs": [
    {
     "name": "stdout",
     "output_type": "stream",
     "text": [
      "Start\n"
     ]
    },
    {
     "name": "stderr",
     "output_type": "stream",
     "text": [
      "/home/pravin/Desktop/T5/myenv/lib/python3.10/site-packages/tqdm/auto.py:21: TqdmWarning: IProgress not found. Please update jupyter and ipywidgets. See https://ipywidgets.readthedocs.io/en/stable/user_install.html\n",
      "  from .autonotebook import tqdm as notebook_tqdm\n"
     ]
    },
    {
     "name": "stdout",
     "output_type": "stream",
     "text": [
      "Libraries Imported Successfully\n"
     ]
    }
   ],
   "source": [
    "print(\"Start\")\n",
    "import torch\n",
    "import os\n",
    "import numpy as np\n",
    "from transformers import (T5ForConditionalGeneration, \n",
    "AdamW, T5Tokenizer)\n",
    "from peft import PeftConfig, PeftModel\n",
    "from datasets import load_dataset, Dataset, DatasetDict\n",
    "from torch.utils.data import DataLoader\n",
    "import pandas as pd\n",
    "print(\"Libraries Imported Successfully\")\n"
   ]
  },
  {
   "cell_type": "code",
   "execution_count": 2,
   "id": "87078e8a-fcd5-470d-94f4-940b49fe38af",
   "metadata": {},
   "outputs": [
    {
     "name": "stderr",
     "output_type": "stream",
     "text": [
      "You are using the default legacy behaviour of the <class 'transformers.models.t5.tokenization_t5.T5Tokenizer'>. This is expected, and simply means that the `legacy` (previous) behavior will be used so nothing changes for you. If you want to use the new behaviour, set `legacy=False`. This should only be set if you understand what it means, and thoroughly read the reason why this was added as explained in https://github.com/huggingface/transformers/pull/24565\n",
      "Special tokens have been added in the vocabulary, make sure the associated word embeddings are fine-tuned or trained.\n"
     ]
    }
   ],
   "source": [
    "model_id = 't5-large'\n",
    "tokenizer = T5Tokenizer.from_pretrained(model_id)\n",
    "model = T5ForConditionalGeneration.from_pretrained(model_id)"
   ]
  },
  {
   "cell_type": "code",
   "execution_count": 3,
   "id": "a5029f13-d890-43a0-b6ba-dd6a00423787",
   "metadata": {},
   "outputs": [],
   "source": [
    "model1 = PeftModel.from_pretrained(model, \"/home/pravin/Desktop/April/7thapril/Sentiment/epoch1\", map_location=torch.device('cpu'))\n",
    "model2 = PeftModel.from_pretrained(model, \"/home/pravin/Desktop/April/7thapril/Sentiment/second_iteration/epoch2\", map_location=torch.device('cpu'))\n"
   ]
  },
  {
   "cell_type": "code",
   "execution_count": 4,
   "id": "8c1c4f44-b6f6-4467-b6d6-e79e08d803ae",
   "metadata": {},
   "outputs": [
    {
     "name": "stdout",
     "output_type": "stream",
     "text": [
      "Model device: cpu\n"
     ]
    }
   ],
   "source": [
    "device = next(model.parameters()).device\n",
    "print(\"Model device:\", device)"
   ]
  },
  {
   "cell_type": "code",
   "execution_count": 4,
   "id": "4e69c426-42aa-4ea3-9130-51fcf58a4d3d",
   "metadata": {},
   "outputs": [],
   "source": [
    "df = pd.read_csv(\"/home/pravin/Desktop/April/7thapril/Sentiment/test_amazon.csv\")\n",
    "df = df.sample(400)"
   ]
  },
  {
   "cell_type": "code",
   "execution_count": 5,
   "id": "b3f2f844-39bc-4779-a1df-72a11dd66028",
   "metadata": {},
   "outputs": [],
   "source": [
    "def apply_model(row, modell):\n",
    "    input_ids = tokenizer(f\" question: {row['question']} context: {row['context']}\", return_tensors='pt').input_ids\n",
    "    output = tokenizer.decode(modell.generate(inputs = input_ids)[0], skip_special_tokens=True) \n",
    "    return output"
   ]
  },
  {
   "cell_type": "code",
   "execution_count": 6,
   "id": "51c3a52f-42e9-4f81-a8e9-840d8d396eb7",
   "metadata": {},
   "outputs": [
    {
     "name": "stderr",
     "output_type": "stream",
     "text": [
      "/home/pravin/Desktop/T5/myenv/lib/python3.10/site-packages/transformers/generation/utils.py:1132: UserWarning: Using the model-agnostic default `max_length` (=20) to control the generation length. We recommend setting `max_new_tokens` to control the maximum length of the generation.\n",
      "  warnings.warn(\n",
      "/home/pravin/Desktop/T5/myenv/lib/python3.10/site-packages/transformers/generation/utils.py:1132: UserWarning: Using the model-agnostic default `max_length` (=20) to control the generation length. We recommend setting `max_new_tokens` to control the maximum length of the generation.\n",
      "  warnings.warn(\n",
      "/home/pravin/Desktop/T5/myenv/lib/python3.10/site-packages/transformers/generation/utils.py:1132: UserWarning: Using the model-agnostic default `max_length` (=20) to control the generation length. We recommend setting `max_new_tokens` to control the maximum length of the generation.\n",
      "  warnings.warn(\n"
     ]
    }
   ],
   "source": [
    "df['m0'] = df.apply(lambda row: apply_model(row, model), axis=1)\n",
    "df['m1'] = df.apply(lambda row: apply_model(row, model1), axis=1)\n",
    "df['m2'] = df.apply(lambda row: apply_model(row, model2), axis=1)"
   ]
  },
  {
   "cell_type": "code",
   "execution_count": 7,
   "id": "96b58aa1-c9cc-4980-aac8-6d6871e0f5e8",
   "metadata": {},
   "outputs": [
    {
     "data": {
      "text/html": [
       "<div>\n",
       "<style scoped>\n",
       "    .dataframe tbody tr th:only-of-type {\n",
       "        vertical-align: middle;\n",
       "    }\n",
       "\n",
       "    .dataframe tbody tr th {\n",
       "        vertical-align: top;\n",
       "    }\n",
       "\n",
       "    .dataframe thead th {\n",
       "        text-align: right;\n",
       "    }\n",
       "</style>\n",
       "<table border=\"1\" class=\"dataframe\">\n",
       "  <thead>\n",
       "    <tr style=\"text-align: right;\">\n",
       "      <th></th>\n",
       "      <th>context</th>\n",
       "      <th>answer</th>\n",
       "      <th>question</th>\n",
       "      <th>m0</th>\n",
       "      <th>m1</th>\n",
       "      <th>m2</th>\n",
       "    </tr>\n",
       "  </thead>\n",
       "  <tbody>\n",
       "    <tr>\n",
       "      <th>157084</th>\n",
       "      <td>Not worth it: They broke Day 1... ends came o...</td>\n",
       "      <td>negative</td>\n",
       "      <td>How does the customer feel?</td>\n",
       "      <td>negative</td>\n",
       "      <td>negative</td>\n",
       "      <td>negative</td>\n",
       "    </tr>\n",
       "    <tr>\n",
       "      <th>74635</th>\n",
       "      <td>TERRIBLE PRODUCT! COMPLETELY INEFFECTIVE!!!!!...</td>\n",
       "      <td>negative</td>\n",
       "      <td>Can you determine the sentiment expressed in t...</td>\n",
       "      <td>negative</td>\n",
       "      <td>negative</td>\n",
       "      <td>negative</td>\n",
       "    </tr>\n",
       "    <tr>\n",
       "      <th>342447</th>\n",
       "      <td>Not nearly good as the Broadway version: This...</td>\n",
       "      <td>negative</td>\n",
       "      <td>Do you think the text has a positive or negati...</td>\n",
       "      <td>negative</td>\n",
       "      <td>negative</td>\n",
       "      <td>negative</td>\n",
       "    </tr>\n",
       "    <tr>\n",
       "      <th>332791</th>\n",
       "      <td>Biased and poorly done: Minter is yet another...</td>\n",
       "      <td>negative</td>\n",
       "      <td>What is the emotional sentiment conveyed by th...</td>\n",
       "      <td>negative</td>\n",
       "      <td>negative</td>\n",
       "      <td>negative</td>\n",
       "    </tr>\n",
       "    <tr>\n",
       "      <th>295004</th>\n",
       "      <td>Tamboo/Skins: What a pleasure seeing these al...</td>\n",
       "      <td>positive</td>\n",
       "      <td>Sentiment?</td>\n",
       "      <td>positive</td>\n",
       "      <td>positive</td>\n",
       "      <td>positive</td>\n",
       "    </tr>\n",
       "  </tbody>\n",
       "</table>\n",
       "</div>"
      ],
      "text/plain": [
       "                                                  context    answer  \\\n",
       "157084   Not worth it: They broke Day 1... ends came o...  negative   \n",
       "74635    TERRIBLE PRODUCT! COMPLETELY INEFFECTIVE!!!!!...  negative   \n",
       "342447   Not nearly good as the Broadway version: This...  negative   \n",
       "332791   Biased and poorly done: Minter is yet another...  negative   \n",
       "295004   Tamboo/Skins: What a pleasure seeing these al...  positive   \n",
       "\n",
       "                                                 question        m0        m1  \\\n",
       "157084                        How does the customer feel?  negative  negative   \n",
       "74635   Can you determine the sentiment expressed in t...  negative  negative   \n",
       "342447  Do you think the text has a positive or negati...  negative  negative   \n",
       "332791  What is the emotional sentiment conveyed by th...  negative  negative   \n",
       "295004                                         Sentiment?  positive  positive   \n",
       "\n",
       "              m2  \n",
       "157084  negative  \n",
       "74635   negative  \n",
       "342447  negative  \n",
       "332791  negative  \n",
       "295004  positive  "
      ]
     },
     "execution_count": 7,
     "metadata": {},
     "output_type": "execute_result"
    }
   ],
   "source": [
    "df.head()"
   ]
  },
  {
   "cell_type": "code",
   "execution_count": 10,
   "id": "44493bf8-0a02-4ca7-aa71-36b1cc0ec14d",
   "metadata": {},
   "outputs": [
    {
     "data": {
      "text/plain": [
       "(array(['negative', 'positive', 'neutral'], dtype=object),\n",
       " array(['negative', 'positive', 'neutral'], dtype=object),\n",
       " array(['negative', 'positive', 'neutral'], dtype=object))"
      ]
     },
     "execution_count": 10,
     "metadata": {},
     "output_type": "execute_result"
    }
   ],
   "source": [
    "df['m0'].unique(), df['m1'].unique(), df['m2'].unique()"
   ]
  },
  {
   "cell_type": "code",
   "execution_count": 12,
   "id": "f2071ee2-f4a0-48ae-9814-208d21dadc02",
   "metadata": {},
   "outputs": [
    {
     "name": "stderr",
     "output_type": "stream",
     "text": [
      "/home/pravin/Desktop/T5/myenv/lib/python3.10/site-packages/transformers/generation/utils.py:1132: UserWarning: Using the model-agnostic default `max_length` (=20) to control the generation length. We recommend setting `max_new_tokens` to control the maximum length of the generation.\n",
      "  warnings.warn(\n"
     ]
    }
   ],
   "source": [
    "df['m088'] = df.apply(lambda row: apply_model(row, model), axis=1)\n"
   ]
  },
  {
   "cell_type": "code",
   "execution_count": 13,
   "id": "23c11145-bb9b-4aca-b35d-ff93e2760aaa",
   "metadata": {},
   "outputs": [
    {
     "data": {
      "text/plain": [
       "(22, 7)"
      ]
     },
     "execution_count": 13,
     "metadata": {},
     "output_type": "execute_result"
    }
   ],
   "source": [
    "df[df['m088'] == df['m0']].shape"
   ]
  },
  {
   "cell_type": "code",
   "execution_count": null,
   "id": "a3bf7689-cb0d-4ee8-9083-9521d0893af9",
   "metadata": {},
   "outputs": [],
   "source": []
  },
  {
   "cell_type": "code",
   "execution_count": null,
   "id": "bf3e3fc6-8c0b-4fb7-acd2-82ceb9e2c7cd",
   "metadata": {},
   "outputs": [],
   "source": []
  },
  {
   "cell_type": "code",
   "execution_count": 8,
   "id": "eb2fb3da-db92-4adc-ad43-726b7579f05e",
   "metadata": {},
   "outputs": [],
   "source": [
    "df_filtered0 = df[(df['answer'] != df['m0'])]"
   ]
  },
  {
   "cell_type": "code",
   "execution_count": 9,
   "id": "215e605e-bc81-4a4b-a769-5b7104cafb4d",
   "metadata": {},
   "outputs": [
    {
     "data": {
      "text/html": [
       "<div>\n",
       "<style scoped>\n",
       "    .dataframe tbody tr th:only-of-type {\n",
       "        vertical-align: middle;\n",
       "    }\n",
       "\n",
       "    .dataframe tbody tr th {\n",
       "        vertical-align: top;\n",
       "    }\n",
       "\n",
       "    .dataframe thead th {\n",
       "        text-align: right;\n",
       "    }\n",
       "</style>\n",
       "<table border=\"1\" class=\"dataframe\">\n",
       "  <thead>\n",
       "    <tr style=\"text-align: right;\">\n",
       "      <th></th>\n",
       "      <th>context</th>\n",
       "      <th>answer</th>\n",
       "      <th>question</th>\n",
       "      <th>m0</th>\n",
       "      <th>m1</th>\n",
       "      <th>m2</th>\n",
       "    </tr>\n",
       "  </thead>\n",
       "  <tbody>\n",
       "    <tr>\n",
       "      <th>159791</th>\n",
       "      <td>teenybopper punk rock: It's hard to believe t...</td>\n",
       "      <td>positive</td>\n",
       "      <td>Sentiment?</td>\n",
       "      <td>negative</td>\n",
       "      <td>negative</td>\n",
       "      <td>negative</td>\n",
       "    </tr>\n",
       "    <tr>\n",
       "      <th>40558</th>\n",
       "      <td>Good but not as good as Trance to the Sun: I ...</td>\n",
       "      <td>negative</td>\n",
       "      <td>What sentiment does the text convey?</td>\n",
       "      <td>positive</td>\n",
       "      <td>positive</td>\n",
       "      <td>positive</td>\n",
       "    </tr>\n",
       "    <tr>\n",
       "      <th>29070</th>\n",
       "      <td>If you know absolutely nothing about ...: ......</td>\n",
       "      <td>negative</td>\n",
       "      <td>How does the customer feel?</td>\n",
       "      <td>positive</td>\n",
       "      <td>positive</td>\n",
       "      <td>positive</td>\n",
       "    </tr>\n",
       "    <tr>\n",
       "      <th>302933</th>\n",
       "      <td>Should have been the first recording.: Anothe...</td>\n",
       "      <td>positive</td>\n",
       "      <td>Can you determine the sentiment expressed in t...</td>\n",
       "      <td>negative</td>\n",
       "      <td>negative</td>\n",
       "      <td>negative</td>\n",
       "    </tr>\n",
       "    <tr>\n",
       "      <th>47960</th>\n",
       "      <td>Widescreen Letterbox Format: I fail to see th...</td>\n",
       "      <td>negative</td>\n",
       "      <td>What sentiment does the text convey?</td>\n",
       "      <td>positive</td>\n",
       "      <td>positive</td>\n",
       "      <td>positive</td>\n",
       "    </tr>\n",
       "    <tr>\n",
       "      <th>122569</th>\n",
       "      <td>The 50 states quarter folder: It could not se...</td>\n",
       "      <td>negative</td>\n",
       "      <td>Can you analyze the sentiment of the text?</td>\n",
       "      <td>neutral</td>\n",
       "      <td>neutral</td>\n",
       "      <td>neutral</td>\n",
       "    </tr>\n",
       "    <tr>\n",
       "      <th>105453</th>\n",
       "      <td>Pleasant collect for casual listening: A so s...</td>\n",
       "      <td>negative</td>\n",
       "      <td>Sentiment?</td>\n",
       "      <td>positive</td>\n",
       "      <td>positive</td>\n",
       "      <td>positive</td>\n",
       "    </tr>\n",
       "    <tr>\n",
       "      <th>106917</th>\n",
       "      <td>Not what I expected.: Wonderful voice, no dou...</td>\n",
       "      <td>negative</td>\n",
       "      <td>What sentiment does the text convey?</td>\n",
       "      <td>positive</td>\n",
       "      <td>positive</td>\n",
       "      <td>positive</td>\n",
       "    </tr>\n",
       "    <tr>\n",
       "      <th>121736</th>\n",
       "      <td>oh man: i have not had the pleasure of listen...</td>\n",
       "      <td>negative</td>\n",
       "      <td>What sentiment does the text convey?</td>\n",
       "      <td>positive</td>\n",
       "      <td>positive</td>\n",
       "      <td>positive</td>\n",
       "    </tr>\n",
       "    <tr>\n",
       "      <th>20657</th>\n",
       "      <td>Why do they always have kool keith?: I don't ...</td>\n",
       "      <td>positive</td>\n",
       "      <td>Can you determine the sentiment expressed in t...</td>\n",
       "      <td>negative</td>\n",
       "      <td>negative</td>\n",
       "      <td>negative</td>\n",
       "    </tr>\n",
       "    <tr>\n",
       "      <th>246262</th>\n",
       "      <td>i like eggs: I love this toy because its the ...</td>\n",
       "      <td>negative</td>\n",
       "      <td>Sentiment?</td>\n",
       "      <td>positive</td>\n",
       "      <td>positive</td>\n",
       "      <td>positive</td>\n",
       "    </tr>\n",
       "    <tr>\n",
       "      <th>363892</th>\n",
       "      <td>too small: Costume is made well, company sent...</td>\n",
       "      <td>positive</td>\n",
       "      <td>What are the sentiment?</td>\n",
       "      <td>negative</td>\n",
       "      <td>negative</td>\n",
       "      <td>negative</td>\n",
       "    </tr>\n",
       "    <tr>\n",
       "      <th>121884</th>\n",
       "      <td>They don't make movies like this anymore.: I ...</td>\n",
       "      <td>positive</td>\n",
       "      <td>What sentiment does the text convey?</td>\n",
       "      <td>negative</td>\n",
       "      <td>negative</td>\n",
       "      <td>negative</td>\n",
       "    </tr>\n",
       "  </tbody>\n",
       "</table>\n",
       "</div>"
      ],
      "text/plain": [
       "                                                  context    answer  \\\n",
       "159791   teenybopper punk rock: It's hard to believe t...  positive   \n",
       "40558    Good but not as good as Trance to the Sun: I ...  negative   \n",
       "29070    If you know absolutely nothing about ...: ......  negative   \n",
       "302933   Should have been the first recording.: Anothe...  positive   \n",
       "47960    Widescreen Letterbox Format: I fail to see th...  negative   \n",
       "122569   The 50 states quarter folder: It could not se...  negative   \n",
       "105453   Pleasant collect for casual listening: A so s...  negative   \n",
       "106917   Not what I expected.: Wonderful voice, no dou...  negative   \n",
       "121736   oh man: i have not had the pleasure of listen...  negative   \n",
       "20657    Why do they always have kool keith?: I don't ...  positive   \n",
       "246262   i like eggs: I love this toy because its the ...  negative   \n",
       "363892   too small: Costume is made well, company sent...  positive   \n",
       "121884   They don't make movies like this anymore.: I ...  positive   \n",
       "\n",
       "                                                 question        m0        m1  \\\n",
       "159791                                         Sentiment?  negative  negative   \n",
       "40558                What sentiment does the text convey?  positive  positive   \n",
       "29070                         How does the customer feel?  positive  positive   \n",
       "302933  Can you determine the sentiment expressed in t...  negative  negative   \n",
       "47960                What sentiment does the text convey?  positive  positive   \n",
       "122569         Can you analyze the sentiment of the text?   neutral   neutral   \n",
       "105453                                         Sentiment?  positive  positive   \n",
       "106917               What sentiment does the text convey?  positive  positive   \n",
       "121736               What sentiment does the text convey?  positive  positive   \n",
       "20657   Can you determine the sentiment expressed in t...  negative  negative   \n",
       "246262                                         Sentiment?  positive  positive   \n",
       "363892                            What are the sentiment?  negative  negative   \n",
       "121884               What sentiment does the text convey?  negative  negative   \n",
       "\n",
       "              m2  \n",
       "159791  negative  \n",
       "40558   positive  \n",
       "29070   positive  \n",
       "302933  negative  \n",
       "47960   positive  \n",
       "122569   neutral  \n",
       "105453  positive  \n",
       "106917  positive  \n",
       "121736  positive  \n",
       "20657   negative  \n",
       "246262  positive  \n",
       "363892  negative  \n",
       "121884  negative  "
      ]
     },
     "execution_count": 9,
     "metadata": {},
     "output_type": "execute_result"
    }
   ],
   "source": [
    "df_filtered0"
   ]
  },
  {
   "cell_type": "code",
   "execution_count": null,
   "id": "3262719c-5245-42a5-b13a-efd2b4ec09ad",
   "metadata": {},
   "outputs": [],
   "source": []
  }
 ],
 "metadata": {
  "kernelspec": {
   "display_name": "Python 3 (ipykernel)",
   "language": "python",
   "name": "python3"
  },
  "language_info": {
   "codemirror_mode": {
    "name": "ipython",
    "version": 3
   },
   "file_extension": ".py",
   "mimetype": "text/x-python",
   "name": "python",
   "nbconvert_exporter": "python",
   "pygments_lexer": "ipython3",
   "version": "3.10.12"
  }
 },
 "nbformat": 4,
 "nbformat_minor": 5
}
